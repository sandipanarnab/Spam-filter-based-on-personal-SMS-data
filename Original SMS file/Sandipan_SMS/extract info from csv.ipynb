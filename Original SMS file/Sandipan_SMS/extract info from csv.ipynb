{
 "cells": [
  {
   "cell_type": "code",
   "execution_count": 2,
   "metadata": {},
   "outputs": [],
   "source": [
    "import os\n",
    "import pandas as pd\n",
    "\n",
    "def combine_csv_files(input_folder, output_file):\n",
    "    all_data = []\n",
    "    \n",
    "    # Loop through each folder and its files\n",
    "    for root, _, files in os.walk(input_folder):\n",
    "        for filename in files:\n",
    "            if filename.endswith(\".csv\"):\n",
    "                file_path = os.path.join(root, filename)\n",
    "                \n",
    "                # Read the CSV file into a pandas DataFrame\n",
    "                df = pd.read_csv(file_path)\n",
    "                all_data.append(df)\n",
    "    \n",
    "    # Concatenate all DataFrames into a single one\n",
    "    combined_df = pd.concat(all_data, ignore_index=True)\n",
    "    \n",
    "    # Save the combined DataFrame to a new CSV file\n",
    "    combined_df.to_csv(output_file, index=False)\n",
    "\n",
    "# Example usage:\n",
    "input_folder = r\"C:\\Users\\sandi\\Desktop\\SMS\"\n",
    "output_file = r\"C:\\Users\\sandi\\Desktop\\SMS\\contact.csv\"\n",
    "combine_csv_files(input_folder, output_file)\n"
   ]
  }
 ],
 "metadata": {
  "kernelspec": {
   "display_name": "py311",
   "language": "python",
   "name": "python3"
  },
  "language_info": {
   "codemirror_mode": {
    "name": "ipython",
    "version": 3
   },
   "file_extension": ".py",
   "mimetype": "text/x-python",
   "name": "python",
   "nbconvert_exporter": "python",
   "pygments_lexer": "ipython3",
   "version": "3.11.3"
  },
  "orig_nbformat": 4
 },
 "nbformat": 4,
 "nbformat_minor": 2
}
